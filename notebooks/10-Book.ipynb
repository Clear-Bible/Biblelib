{
 "cells": [
  {
   "cell_type": "markdown",
   "id": "a11d094d-1986-45ba-b131-9d197d304f6a",
   "metadata": {},
   "source": [
    "## Book Module\n",
    "\n",
    "This manages metadata about Bible books:\n",
    "\n",
    "* The `Book` class (names, abbreviations, and canon membership)\n",
    "* Canon classes for `NTCanon`, `ProtestantCanon` and `CatholicCanon`\n",
    "\n",
    "It does _not_ include information about the _contents_ of a book (its chapters and pericopes): see the `unit` module for that."
   ]
  },
  {
   "cell_type": "code",
   "execution_count": 1,
   "id": "d411fbb5-f40d-411f-8905-731d3440d373",
   "metadata": {},
   "outputs": [],
   "source": [
    "from biblelib import book\n",
    "\n",
    "allbooks = book.Books()"
   ]
  },
  {
   "cell_type": "markdown",
   "id": "f70fbd03-2ca2-4c3b-a588-97a19f79d101",
   "metadata": {},
   "source": [
    "## Retrieve Book Metadata\n",
    "\n",
    "USFM abbreviations are the default key for retrieving a `Book` instance, but other identifiers can also be used."
   ]
  },
  {
   "cell_type": "code",
   "execution_count": 2,
   "id": "eaae225f-698f-44aa-9fcd-a6b1692deb3c",
   "metadata": {},
   "outputs": [
    {
     "data": {
      "text/plain": [
       "<Book: MRK>"
      ]
     },
     "execution_count": 2,
     "metadata": {},
     "output_type": "execute_result"
    }
   ],
   "source": [
    "# Retrieve the Book instance for the Gospel of Mark\n",
    "allbooks[\"MRK\"]"
   ]
  },
  {
   "cell_type": "code",
   "execution_count": 3,
   "id": "91b43f20-bed2-4295-8005-cd63ad90c2c1",
   "metadata": {},
   "outputs": [
    {
     "data": {
      "text/plain": [
       "'Matthew'"
      ]
     },
     "execution_count": 3,
     "metadata": {},
     "output_type": "execute_result"
    }
   ],
   "source": [
    "# retrive a Book instance from an OSIS ID\n",
    "allbooks.fromosis(\"Matt\").name"
   ]
  },
  {
   "cell_type": "markdown",
   "id": "28aa8bfe-dacc-4d2f-a158-8787532b5f26",
   "metadata": {},
   "source": [
    "## Return Identifiers from Other Schemes\n",
    "\n",
    "Given a `Book` instance, you can return identifiers from other systems. "
   ]
  },
  {
   "cell_type": "code",
   "execution_count": 5,
   "id": "d8545e86-5e13-4d90-8b86-37cc5d240fd5",
   "metadata": {},
   "outputs": [
    {
     "data": {
      "text/plain": [
       "('logosID', 'usfmnumber', 'usfmname', 'osisID')"
      ]
     },
     "execution_count": 5,
     "metadata": {},
     "output_type": "execute_result"
    }
   ],
   "source": [
    "# available abbreviation schemes\n",
    "book.Book._abbreviationschemes"
   ]
  },
  {
   "cell_type": "code",
   "execution_count": 6,
   "id": "a52121b7-537d-4487-b63b-3017666bdc49",
   "metadata": {},
   "outputs": [
    {
     "data": {
      "text/plain": [
       "62"
      ]
     },
     "execution_count": 6,
     "metadata": {},
     "output_type": "execute_result"
    }
   ],
   "source": [
    "# return an Logos datatype id number for a book instance.\n",
    "# The Logos system numbers deuterocanonical books prior to NT, so Mark is 62 (not 40 as in USFM).\n",
    "allbooks[\"MRK\"].logosID"
   ]
  },
  {
   "cell_type": "code",
   "execution_count": 7,
   "id": "22d31d15-a783-446b-8370-a2c68f818203",
   "metadata": {},
   "outputs": [
    {
     "data": {
      "text/plain": [
       "'Mark'"
      ]
     },
     "execution_count": 7,
     "metadata": {},
     "output_type": "execute_result"
    }
   ],
   "source": [
    "# return an OSIS id for a book instance\n",
    "allbooks[\"MRK\"].osisID"
   ]
  },
  {
   "cell_type": "code",
   "execution_count": 9,
   "id": "163dad40-cc0d-442c-9de6-5edfd7be4f59",
   "metadata": {},
   "outputs": [
    {
     "data": {
      "text/plain": [
       "'68'"
      ]
     },
     "execution_count": 9,
     "metadata": {},
     "output_type": "execute_result"
    }
   ],
   "source": [
    "# `fromlogos()` uses the Logos bible datatype system (`bible.NN`) to convert a number from Logos scheme to USFM numbers. \n",
    "# In the Logos datatype approach, Tobit is 40, but in USFM it is 68\n",
    "allbooks.fromlogos(\"bible.40\").usfmnumber"
   ]
  },
  {
   "cell_type": "code",
   "execution_count": null,
   "id": "cbef92a4-df71-4f41-a8fd-a58660874687",
   "metadata": {},
   "outputs": [],
   "source": []
  }
 ],
 "metadata": {
  "kernelspec": {
   "display_name": "Python 3 (ipykernel)",
   "language": "python",
   "name": "python3"
  },
  "language_info": {
   "codemirror_mode": {
    "name": "ipython",
    "version": 3
   },
   "file_extension": ".py",
   "mimetype": "text/x-python",
   "name": "python",
   "nbconvert_exporter": "python",
   "pygments_lexer": "ipython3",
   "version": "3.10.13"
  }
 },
 "nbformat": 4,
 "nbformat_minor": 5
}
