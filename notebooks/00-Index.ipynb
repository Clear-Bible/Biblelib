{
 "cells": [
  {
   "cell_type": "markdown",
   "id": "fafc32e8-ed2d-4560-b010-cbbdfab91543",
   "metadata": {},
   "source": [
    "# BibleLib Notebooks\n",
    "\n",
    "These notebooks illustrate the use of BibleLib modules to accomplish various tasks.\n",
    "\n",
    "## Book\n",
    "\n",
    "* [Book Module (10-Book)](10-Book.ipynb): Bible book metadata.\n",
    "\n",
    "## Unit\n",
    "\n",
    "* [Unit/Book (20-Unit-Book)](20-Unit-Book.ipynb): Bible book contents.\n",
    "* [Unit/Chapter (21-Unit-Chapter)](21-Unit-Chapter.ipynb): Bible chapter contents.\n",
    "* [Unit/Verse (22-Unit-Verse)](22-Unit-Verse.ipynb): Bible verse contents.\n",
    "* [Unit/Unit Range (23-Unit-UnitRange)](23-Unit-UnitRange.ipynb): Bible range contents.\n",
    "* [Unit/Pericope (24-Unit-Pericope)](24-Unit-Pericope.ipynb): Bible pericope contents.\n",
    "\n",
    "## Versification\n",
    "\n",
    "## Word\n",
    "\n",
    "* [Word Module (40-Word)](40-Word.ipynb): referencing books, chapters, verses, words, and word parts.\n",
    "* [Word/UBS (41-UBS)](41-UBS.ipynb): converting MARBLE references to BCVWP notation.\n",
    "\n"
   ]
  },
  {
   "cell_type": "code",
   "execution_count": null,
   "id": "ad761567-7ebd-42f1-b9ee-ae6bcb386440",
   "metadata": {},
   "outputs": [],
   "source": []
  }
 ],
 "metadata": {
  "kernelspec": {
   "display_name": "Python 3 (ipykernel)",
   "language": "python",
   "name": "python3"
  },
  "language_info": {
   "codemirror_mode": {
    "name": "ipython",
    "version": 3
   },
   "file_extension": ".py",
   "mimetype": "text/x-python",
   "name": "python",
   "nbconvert_exporter": "python",
   "pygments_lexer": "ipython3",
   "version": "3.10.13"
  }
 },
 "nbformat": 4,
 "nbformat_minor": 5
}
