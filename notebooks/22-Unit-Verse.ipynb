{
 "cells": [
  {
   "cell_type": "markdown",
   "id": "adce0cff-ef9b-4fc4-a172-a53460b4da67",
   "metadata": {},
   "source": [
    "# Unit Verses\n",
    "\n",
    "This manages the content of verses. \n",
    "\n",
    "This should not be confused with verse _references_: that's managed by the [Word module](40-Word.ipynb). "
   ]
  },
  {
   "cell_type": "code",
   "execution_count": null,
   "id": "1bd50980-9589-4aaa-9155-ffcd29ac7584",
   "metadata": {},
   "outputs": [],
   "source": []
  }
 ],
 "metadata": {
  "kernelspec": {
   "display_name": "Python 3 (ipykernel)",
   "language": "python",
   "name": "python3"
  },
  "language_info": {
   "codemirror_mode": {
    "name": "ipython",
    "version": 3
   },
   "file_extension": ".py",
   "mimetype": "text/x-python",
   "name": "python",
   "nbconvert_exporter": "python",
   "pygments_lexer": "ipython3",
   "version": "3.10.13"
  }
 },
 "nbformat": 4,
 "nbformat_minor": 5
}
