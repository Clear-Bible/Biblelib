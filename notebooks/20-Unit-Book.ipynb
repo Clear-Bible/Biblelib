{
 "cells": [
  {
   "cell_type": "markdown",
   "id": "3fbae7ea-9797-4692-92e6-b4c0755dba2b",
   "metadata": {},
   "source": [
    "# Unit Books\n",
    "\n",
    "This manages the chapter content for a Bible book. In the simplest case, books are identified by their book identifier, a two-character string of digits (e.g., Matthew's Gospel is \"40\"). From the book identifier, you can retrieve `Chapter` instances. \n",
    "\n",
    "This is distinct from book _metadata_ (names, abbreviations, and canon membership): for that, see [Book Module (10-Book)](10-Book.ipynb).\n",
    "\n",
    "### To Do\n",
    "\n",
    "Needs additional support for populating a collection of `unit.book.Book` instances."
   ]
  },
  {
   "cell_type": "code",
   "execution_count": 1,
   "id": "41f2e0c2-2db8-445e-872a-cb254b4d74d9",
   "metadata": {},
   "outputs": [],
   "source": [
    "from biblelib.unit import book\n",
    "\n",
    "allbookchapters = book.AllBookChapters()"
   ]
  },
  {
   "cell_type": "markdown",
   "id": "c0bb37f8-3a3f-474f-a163-eb1c105f27ec",
   "metadata": {},
   "source": [
    "## Retrieve Chapters for a Book\n",
    "\n",
    "Following the typical hierarchy:\n",
    "* `unit.Book` is a container for `Chapter` instances\n",
    "* `unit.Chapter` is a container for `Verse` instances.\n",
    "* `unit.Verse` is still under development, but will eventually be a container for source text `Word` instances.\n",
    "\n",
    "`parent` links let you walk from a `Chapter` or `Verse` instance up the hierarchy."
   ]
  },
  {
   "cell_type": "code",
   "execution_count": 2,
   "id": "dc80111d-dfeb-45c0-8d55-5176df5728fd",
   "metadata": {},
   "outputs": [
    {
     "data": {
      "text/plain": [
       "88"
      ]
     },
     "execution_count": 2,
     "metadata": {},
     "output_type": "execute_result"
    }
   ],
   "source": [
    "# this is the current scope of canonical and deutero-canonical books. \n",
    "# Other extra-canonical books are not currently supported.\n",
    "len(allbookchapters)"
   ]
  },
  {
   "cell_type": "code",
   "execution_count": 3,
   "id": "de17fc5b-2481-4b2b-9406-da4a19775fda",
   "metadata": {},
   "outputs": [
    {
     "data": {
      "text/plain": [
       "[Chapter(identifier=BCID('41001')),\n",
       " Chapter(identifier=BCID('41002')),\n",
       " Chapter(identifier=BCID('41003')),\n",
       " Chapter(identifier=BCID('41004')),\n",
       " Chapter(identifier=BCID('41005')),\n",
       " Chapter(identifier=BCID('41006')),\n",
       " Chapter(identifier=BCID('41007')),\n",
       " Chapter(identifier=BCID('41008')),\n",
       " Chapter(identifier=BCID('41009')),\n",
       " Chapter(identifier=BCID('41010')),\n",
       " Chapter(identifier=BCID('41011')),\n",
       " Chapter(identifier=BCID('41012')),\n",
       " Chapter(identifier=BCID('41013')),\n",
       " Chapter(identifier=BCID('41014')),\n",
       " Chapter(identifier=BCID('41015')),\n",
       " Chapter(identifier=BCID('41016'))]"
      ]
     },
     "execution_count": 3,
     "metadata": {},
     "output_type": "execute_result"
    }
   ],
   "source": [
    "# retrieve the chapters for Mark\n",
    "mark = allbookchapters['41']\n",
    "mark"
   ]
  },
  {
   "cell_type": "markdown",
   "id": "782b3d97-922e-494f-ba61-957f0ed7ab88",
   "metadata": {},
   "source": [
    "### Retrieve Selected Chapters\n",
    "\n",
    "A `Book` instance can enumerate its chapters, including a subset. \n",
    "\n",
    "Unlike typical Python sequence indexing (which is zero-based), this uses the traditional chapter numbering, starting with 1. This matches traditional ranges in Bible reference notation: MRK 1-2 means the first two chapters. "
   ]
  },
  {
   "cell_type": "code",
   "execution_count": 4,
   "id": "fa1040b1-845b-46a5-942b-8dbb0425cbff",
   "metadata": {},
   "outputs": [
    {
     "data": {
      "text/plain": [
       "Book(identifier=BID('41'))"
      ]
     },
     "execution_count": 4,
     "metadata": {},
     "output_type": "execute_result"
    }
   ],
   "source": [
    "from biblelib.word import BID\n",
    "markbook = book.Book(inst=BID('41'))\n",
    "markbook"
   ]
  },
  {
   "cell_type": "code",
   "execution_count": 5,
   "id": "cdb0ce1e-b28e-4b0b-ab5c-98f8c2c5d75d",
   "metadata": {},
   "outputs": [
    {
     "data": {
      "text/plain": [
       "16"
      ]
     },
     "execution_count": 5,
     "metadata": {},
     "output_type": "execute_result"
    }
   ],
   "source": [
    "# the number of the last chapter\n",
    "markbook.lastchapter"
   ]
  },
  {
   "cell_type": "code",
   "execution_count": 6,
   "id": "099045c8-8861-43e6-89bb-a39d6331f5a5",
   "metadata": {},
   "outputs": [
    {
     "data": {
      "text/plain": [
       "[Chapter(identifier=BCID('41001')),\n",
       " Chapter(identifier=BCID('41002')),\n",
       " Chapter(identifier=BCID('41003')),\n",
       " Chapter(identifier=BCID('41004')),\n",
       " Chapter(identifier=BCID('41005')),\n",
       " Chapter(identifier=BCID('41006')),\n",
       " Chapter(identifier=BCID('41007')),\n",
       " Chapter(identifier=BCID('41008')),\n",
       " Chapter(identifier=BCID('41009')),\n",
       " Chapter(identifier=BCID('41010')),\n",
       " Chapter(identifier=BCID('41011')),\n",
       " Chapter(identifier=BCID('41012')),\n",
       " Chapter(identifier=BCID('41013')),\n",
       " Chapter(identifier=BCID('41014')),\n",
       " Chapter(identifier=BCID('41015')),\n",
       " Chapter(identifier=BCID('41016'))]"
      ]
     },
     "execution_count": 6,
     "metadata": {},
     "output_type": "execute_result"
    }
   ],
   "source": [
    "markbook.data"
   ]
  },
  {
   "cell_type": "code",
   "execution_count": 7,
   "id": "51ed4c2b-0a6f-49ed-8ff8-51aa9277afe5",
   "metadata": {},
   "outputs": [
    {
     "data": {
      "text/plain": [
       "[Chapter(identifier=BCID('41001')),\n",
       " Chapter(identifier=BCID('41002')),\n",
       " Chapter(identifier=BCID('41003')),\n",
       " Chapter(identifier=BCID('41004'))]"
      ]
     },
     "execution_count": 7,
     "metadata": {},
     "output_type": "execute_result"
    }
   ],
   "source": [
    "# the first four chapters\n",
    "markbook.enumerate(4)"
   ]
  },
  {
   "cell_type": "code",
   "execution_count": 8,
   "id": "cdfcd33f-a04f-43a0-80d1-126ee7ea2bc1",
   "metadata": {},
   "outputs": [
    {
     "data": {
      "text/plain": [
       "[Chapter(identifier=BCID('41003')), Chapter(identifier=BCID('41004'))]"
      ]
     },
     "execution_count": 8,
     "metadata": {},
     "output_type": "execute_result"
    }
   ],
   "source": [
    " # chapters 3 and 4, *inclusive*\n",
    "markbook.enumerate(3, 4)"
   ]
  },
  {
   "cell_type": "code",
   "execution_count": 9,
   "id": "f28831b4-70f5-4796-a429-7b176ac26d91",
   "metadata": {},
   "outputs": [
    {
     "data": {
      "text/plain": [
       "[Chapter(identifier=BCID('41013')),\n",
       " Chapter(identifier=BCID('41014')),\n",
       " Chapter(identifier=BCID('41015')),\n",
       " Chapter(identifier=BCID('41016'))]"
      ]
     },
     "execution_count": 9,
     "metadata": {},
     "output_type": "execute_result"
    }
   ],
   "source": [
    "# enumerate all the chapters from 13 to the end\n",
    "markbook.enumerate(13, markbook.lastchapter)"
   ]
  },
  {
   "cell_type": "markdown",
   "id": "a4025fdc-02cc-4644-8306-074876121873",
   "metadata": {},
   "source": [
    "## Count Verses for a Book (or Selected Chapters)"
   ]
  },
  {
   "cell_type": "code",
   "execution_count": 10,
   "id": "1510036f-78a9-44ff-87de-418b5cd8cd4d",
   "metadata": {},
   "outputs": [
    {
     "data": {
      "text/plain": [
       "678"
      ]
     },
     "execution_count": 10,
     "metadata": {},
     "output_type": "execute_result"
    }
   ],
   "source": [
    "# how many verses in Mark?\n",
    "len([verse for chapter in mark for verse in chapter])"
   ]
  },
  {
   "cell_type": "code",
   "execution_count": 11,
   "id": "e1b498d6-f659-448a-add1-7b44d6330759",
   "metadata": {},
   "outputs": [
    {
     "name": "stdout",
     "output_type": "stream",
     "text": [
      "First chapter of MRK: Chapter(identifier=BCID('41001'))\n"
     ]
    }
   ],
   "source": [
    "mark1 = mark[0]\n",
    "print(f\"First chapter of MRK: {mark1}\")"
   ]
  },
  {
   "cell_type": "code",
   "execution_count": 12,
   "id": "64e44fc2-1643-42cb-b057-171a7ace6e34",
   "metadata": {},
   "outputs": [
    {
     "data": {
      "text/plain": [
       "[Verse(identifier=BCVID('41001001')),\n",
       " Verse(identifier=BCVID('41001002')),\n",
       " Verse(identifier=BCVID('41001003')),\n",
       " Verse(identifier=BCVID('41001004')),\n",
       " Verse(identifier=BCVID('41001005')),\n",
       " Verse(identifier=BCVID('41001006')),\n",
       " Verse(identifier=BCVID('41001007')),\n",
       " Verse(identifier=BCVID('41001008')),\n",
       " Verse(identifier=BCVID('41001009')),\n",
       " Verse(identifier=BCVID('41001010')),\n",
       " Verse(identifier=BCVID('41001011')),\n",
       " Verse(identifier=BCVID('41001012')),\n",
       " Verse(identifier=BCVID('41001013')),\n",
       " Verse(identifier=BCVID('41001014')),\n",
       " Verse(identifier=BCVID('41001015')),\n",
       " Verse(identifier=BCVID('41001016')),\n",
       " Verse(identifier=BCVID('41001017')),\n",
       " Verse(identifier=BCVID('41001018')),\n",
       " Verse(identifier=BCVID('41001019')),\n",
       " Verse(identifier=BCVID('41001020')),\n",
       " Verse(identifier=BCVID('41001021')),\n",
       " Verse(identifier=BCVID('41001022')),\n",
       " Verse(identifier=BCVID('41001023')),\n",
       " Verse(identifier=BCVID('41001024')),\n",
       " Verse(identifier=BCVID('41001025')),\n",
       " Verse(identifier=BCVID('41001026')),\n",
       " Verse(identifier=BCVID('41001027')),\n",
       " Verse(identifier=BCVID('41001028')),\n",
       " Verse(identifier=BCVID('41001029')),\n",
       " Verse(identifier=BCVID('41001030')),\n",
       " Verse(identifier=BCVID('41001031')),\n",
       " Verse(identifier=BCVID('41001032')),\n",
       " Verse(identifier=BCVID('41001033')),\n",
       " Verse(identifier=BCVID('41001034')),\n",
       " Verse(identifier=BCVID('41001035')),\n",
       " Verse(identifier=BCVID('41001036')),\n",
       " Verse(identifier=BCVID('41001037')),\n",
       " Verse(identifier=BCVID('41001038')),\n",
       " Verse(identifier=BCVID('41001039')),\n",
       " Verse(identifier=BCVID('41001040')),\n",
       " Verse(identifier=BCVID('41001041')),\n",
       " Verse(identifier=BCVID('41001042')),\n",
       " Verse(identifier=BCVID('41001043')),\n",
       " Verse(identifier=BCVID('41001044')),\n",
       " Verse(identifier=BCVID('41001045'))]"
      ]
     },
     "execution_count": 12,
     "metadata": {},
     "output_type": "execute_result"
    }
   ],
   "source": [
    "mark1.enumerate(mark1.lastverse)"
   ]
  },
  {
   "cell_type": "markdown",
   "id": "44c205d1-d41e-4edb-bbac-f74d27025ced",
   "metadata": {},
   "source": [
    "## WORK IN PROGRESS below here"
   ]
  },
  {
   "cell_type": "code",
   "execution_count": 15,
   "id": "18a31380-8a72-40c0-86e4-88351b55406c",
   "metadata": {},
   "outputs": [
    {
     "data": {
      "text/plain": [
       "16"
      ]
     },
     "execution_count": 15,
     "metadata": {},
     "output_type": "execute_result"
    }
   ],
   "source": [
    "markbook.lastchapter"
   ]
  },
  {
   "cell_type": "code",
   "execution_count": 16,
   "id": "d831d04a-4ff1-4d58-90e4-aaf53b41d6e6",
   "metadata": {},
   "outputs": [
    {
     "data": {
      "text/plain": [
       "<Versification.ENG: 'eng'>"
      ]
     },
     "execution_count": 16,
     "metadata": {},
     "output_type": "execute_result"
    }
   ],
   "source": [
    "markbook.versification"
   ]
  },
  {
   "cell_type": "code",
   "execution_count": 23,
   "id": "f1ed4c01-6ad0-4b85-ac8b-4b989b06684a",
   "metadata": {},
   "outputs": [
    {
     "data": {
      "text/plain": [
       "758"
      ]
     },
     "execution_count": 23,
     "metadata": {},
     "output_type": "execute_result"
    }
   ],
   "source": [
    "len([verse for chapter in allbookchapters['42'][:16] for verse in chapter])"
   ]
  },
  {
   "cell_type": "code",
   "execution_count": null,
   "id": "eb9dd8b5-f31f-4846-bcfb-e770d37fdfa1",
   "metadata": {},
   "outputs": [],
   "source": []
  }
 ],
 "metadata": {
  "kernelspec": {
   "display_name": "Python 3 (ipykernel)",
   "language": "python",
   "name": "python3"
  },
  "language_info": {
   "codemirror_mode": {
    "name": "ipython",
    "version": 3
   },
   "file_extension": ".py",
   "mimetype": "text/x-python",
   "name": "python",
   "nbconvert_exporter": "python",
   "pygments_lexer": "ipython3",
   "version": "3.10.13"
  }
 },
 "nbformat": 4,
 "nbformat_minor": 5
}
